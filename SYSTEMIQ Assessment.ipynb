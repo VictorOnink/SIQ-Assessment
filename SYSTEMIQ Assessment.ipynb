{
 "cells": [
  {
   "cell_type": "markdown",
   "id": "cf29e067",
   "metadata": {},
   "source": [
    "# SYSTEMIQ Assessment\n",
    "The following notebook contains my analysis for the assessment for the 'Python Modeller - Energy Platform' at SYSTEMIQ. Everything contained within this notebook is my own work.\n",
    "\n",
    "Victor Onink 26/04/2022"
   ]
  },
  {
   "cell_type": "code",
   "execution_count": 1,
   "id": "18f2e133",
   "metadata": {},
   "outputs": [],
   "source": [
    "import numpy as np\n",
    "import pandas as pd\n",
    "import matplotlib.pyplot as plt\n",
    "from scipy.stats import ttest_ind\n",
    "from datetime import timedelta, datetime\n",
    "import statsmodels.api as sm"
   ]
  },
  {
   "cell_type": "markdown",
   "id": "81d58e3e",
   "metadata": {},
   "source": [
    "### Data cleaning & merging\n",
    "1. Please load the users and activity tables into Python\n",
    "\n",
    "    a. How many variables are in the datasets\n",
    "    \n",
    "    b. How many observations are in the datasets"
   ]
  },
  {
   "cell_type": "code",
   "execution_count": 2,
   "id": "6900d830",
   "metadata": {},
   "outputs": [
    {
     "name": "stdout",
     "output_type": "stream",
     "text": [
      "The user dataset has 5807 observations and 5 variables.\n",
      "The activity dataset has 22642 observations and 3 variables.\n"
     ]
    }
   ],
   "source": [
    "user_data = pd.read_csv('users.csv')\n",
    "activity_data = pd.read_csv('activities.csv')\n",
    "\n",
    "def data_parameters(data_set, name) -> print:\n",
    "    \"\"\"\n",
    "    Print the number of observations and variables contained within the data_set. The data_set data is \n",
    "    structured according to [num_observations, num_variables]\n",
    "    \"\"\"\n",
    "    print('The {} dataset has {} observations and {} variables.'.format(name, *data_set.shape))\n",
    "    \n",
    "data_parameters(user_data, 'user')\n",
    "data_parameters(activity_data, 'activity')"
   ]
  },
  {
   "cell_type": "markdown",
   "id": "193dd327",
   "metadata": {},
   "source": [
    "2. How many:\n",
    "    \n",
    "    a. Male users are in the dataset?\n",
    "    \n",
    "    b. Female users are in the dataset?\n",
    "    \n",
    "    c. For haw many users is no gender information available?"
   ]
  },
  {
   "cell_type": "code",
   "execution_count": 3,
   "id": "c9f7d5a0",
   "metadata": {},
   "outputs": [
    {
     "name": "stdout",
     "output_type": "stream",
     "text": [
      "The dataset has 2909 male users.\n",
      "The dataset has 1417 female users.\n",
      "The dataset has 1481 users without available gender information.\n"
     ]
    }
   ],
   "source": [
    "male_users = sum(user_data.Gender == 'M')\n",
    "female_users = sum(user_data.Gender == 'F')\n",
    "undefined_users = sum(user_data.Gender == ' ')\n",
    "\n",
    "print('The dataset has {} male users.'.format(male_users))\n",
    "print('The dataset has {} female users.'.format(female_users))\n",
    "print('The dataset has {} users without available gender information.'.format(undefined_users))"
   ]
  },
  {
   "cell_type": "markdown",
   "id": "b207d26c",
   "metadata": {},
   "source": [
    "3. Merge the two datasets and calculate the days since registration for each activity. What is the total mean and median revenue generated per user (ie across all activities)? How do you interpret the result?"
   ]
  },
  {
   "cell_type": "code",
   "execution_count": 4,
   "id": "c2a72883",
   "metadata": {},
   "outputs": [
    {
     "name": "stdout",
     "output_type": "stream",
     "text": [
      "The mean revenue is 512.69, the median revenue is 80.00\n"
     ]
    }
   ],
   "source": [
    "# Merging the data, where the join is done on the 'UserId' variable\n",
    "merged_data = user_data.merge(activity_data, left_on='UserId', right_on='UserId')\n",
    "\n",
    "# Calculating the total revenue for each user\n",
    "total_revenue = merged_data.groupby('UserId').sum('Revenue')\n",
    "\n",
    "# Calculate the mean and median revenue per user\n",
    "mean_revenue = total_revenue.mean()\n",
    "median_revenue = total_revenue.median()\n",
    "\n",
    "print('The mean revenue is {:.2f}, the median revenue is {:.2f}'.format(mean_revenue.Revenue, median_revenue.Revenue))"
   ]
  },
  {
   "cell_type": "markdown",
   "id": "96acd955",
   "metadata": {},
   "source": [
    "As can be seen above, the mean revenue is significantly higher than the median. This suggests that there are a number of users in the dataset that spend significantly more money over the various activities in the dataset than others."
   ]
  },
  {
   "cell_type": "markdown",
   "id": "aaa5e1af",
   "metadata": {},
   "source": [
    "4. Please visualize the distribution of the revenues by user."
   ]
  },
  {
   "cell_type": "code",
   "execution_count": 5,
   "id": "c90365b4",
   "metadata": {},
   "outputs": [
    {
     "data": {
      "image/png": "[encoded data removed]",
      "text/plain": [
       "<Figure size 1080x720 with 1 Axes>"
      ]
     },
     "metadata": {
      "needs_background": "light"
     },
     "output_type": "display_data"
    }
   ],
   "source": [
    "# We can just make a simple 1D histogram of the data, with revenueon x axis and number of users on the y axis\n",
    "def plot_histogram(revenue_data, mean_rev, median_rev) -> plt.figure:\n",
    "    \"\"\"\n",
    "    This function makes a standard histogram of the revenue_data, as well as indicating the mean and median \n",
    "    revenues (mean_rev, median_rev).\n",
    "    \"\"\"\n",
    "    fig = plt.figure(figsize=(15, 10))\n",
    "    ax = fig.add_subplot(111)\n",
    "    counts, bins, _ = ax.hist(revenue_data, bins=np.logspace(1, 5, num=100))\n",
    "\n",
    "    # Setting the axis labels\n",
    "    plt.xlabel('Revenue', fontsize=18)\n",
    "    plt.ylabel('Number of users', fontsize=18)\n",
    "    _ = plt.xticks(fontsize=15)\n",
    "    _ = plt.yticks(fontsize=15)\n",
    "\n",
    "    # Setting the axis limits and making the x axis a log scale\n",
    "    plt.xlim(10, 1e5)\n",
    "    plt.ylim(0, 600)\n",
    "    plt.xscale('log')\n",
    "\n",
    "    # Plotting the mean and median values\n",
    "    plt.axvline(x=mean_rev, color='tab:red', linewidth=5, label='Mean revenue')\n",
    "    plt.axvline(x=median_rev, color='black', linewidth=5, label='Median revenue')\n",
    "\n",
    "    _ = ax.legend(fontsize=15)\n",
    "    \n",
    "plot_histogram(total_revenue, mean_revenue.Revenue, median_revenue.Revenue)"
   ]
  },
  {
   "cell_type": "markdown",
   "id": "fe82acfc",
   "metadata": {},
   "source": [
    "The figure above shows that the revenue per user distribution is highly skewed, which was already expected based on the large difference between the mean and median values. Half of the users spend less than 80 euro on activities, but there are a small number of users that spend 10,000 - 100,000 euro. As such, the mean revenue per user is 512.69 euro, even though the majority of the users spend signigicantly less than that."
   ]
  },
  {
   "cell_type": "markdown",
   "id": "4e60d5c6",
   "metadata": {},
   "source": [
    "5. What is the average week 1 revenue (ie the revenue generated by the user in the first week)?"
   ]
  },
  {
   "cell_type": "code",
   "execution_count": 6,
   "id": "776ca027",
   "metadata": {},
   "outputs": [
    {
     "name": "stdout",
     "output_type": "stream",
     "text": [
      "The week 1 mean revenue is 200.25, the median revenue is 50.00\n"
     ]
    },
    {
     "data": {
      "image/png": "[encoded data removed]",
      "text/plain": [
       "<Figure size 1080x720 with 1 Axes>"
      ]
     },
     "metadata": {
      "needs_background": "light"
     },
     "output_type": "display_data"
    }
   ],
   "source": [
    "def get_period_events(all_data, time_period=7) -> pd.DataFrame:\n",
    "    \"\"\"\n",
    "    Returns a boolean DataFrame that indicates which events occur within time_period days of registration\n",
    "    \"\"\"\n",
    "    # Assure that the time columns are all in datetime format\n",
    "    all_data.RegDate = pd.to_datetime(merged_data.RegDate)\n",
    "    all_data.Date = pd.to_datetime(merged_data.Date)\n",
    "    \n",
    "    # Calculate the difference in days between the Date and the RegDate\n",
    "    days_difference = all_data.Date - all_data.RegDate \n",
    "    \n",
    "    # Calculate the revenue per user within time_period days of registration\n",
    "    return days_difference.dt.days <= time_period\n",
    "    \n",
    "\n",
    "week1_events_bool = get_period_events(merged_data)\n",
    "week1_events = merged_data.loc[week1_events_bool]\n",
    "week1_revenue = week1_events.groupby('UserId').sum('Revenue')\n",
    "\n",
    "# Calculate the mean and median revenue per user\n",
    "mean_week1_revenue = week1_revenue.mean()\n",
    "median_week1_revenue = week1_revenue.median()\n",
    "\n",
    "print('The week 1 mean revenue is {:.2f}, the median revenue is {:.2f}'.format(mean_week1_revenue.Revenue, \n",
    "                                                                               median_week1_revenue.Revenue))\n",
    "plot_histogram(week1_revenue, mean_week1_revenue.Revenue, median_week1_revenue.Revenue)"
   ]
  },
  {
   "cell_type": "markdown",
   "id": "44da0831",
   "metadata": {},
   "source": [
    "As we can see with the histogram above, if we just consider the mean/median revenue per user in their first week since registration, the averages are lower. There are still a number of high values (>10,000 euro), but they are less common. As such, the averages over the entire dataset are influenced by that a number of users have been using the service more longer periods of time, which is why the average revenue is higher. "
   ]
  },
  {
   "cell_type": "markdown",
   "id": "4eb86c7d",
   "metadata": {},
   "source": [
    "### Analytics\n",
    "6. In this dataset men generated a higher week 1 revenue than women, on average.  Is this difference in revenue between men and women statistically significant? What is an appropriate statistical test to determine this and what is it’s p-value?"
   ]
  },
  {
   "cell_type": "code",
   "execution_count": 7,
   "id": "2c042851",
   "metadata": {},
   "outputs": [
    {
     "name": "stdout",
     "output_type": "stream",
     "text": [
      "The mean male revenue is 207.99±788.82 euro\n",
      "The mean female revenue is 174.69±576.33 euro\n",
      "the independent t-test value is 1.349, with significance 0.177\n"
     ]
    }
   ],
   "source": [
    "# First, we replace all missing gender values with 'M', as required by the assignment \n",
    "merged_data.Gender = np.where((merged_data.Gender == ' '), 'M', merged_data.Gender)\n",
    "\n",
    "# Next, split the data according to male/female\n",
    "male_data = merged_data[merged_data.Gender == 'M']\n",
    "female_data = merged_data[merged_data.Gender == 'F']\n",
    "\n",
    "# Now, we sort out all the events that are in the first week of registration\n",
    "male_days_difference = male_data.Date - male_data.RegDate\n",
    "female_days_difference = female_data.Date - female_data.RegDate\n",
    "male_week1_events = male_data[male_days_difference.dt.days <= 7]\n",
    "female_week1_events = female_data[female_days_difference.dt.days <= 7]\n",
    "\n",
    "# Calculate the revenue per person \n",
    "male_revenue = male_week1_events.groupby('UserId').sum('Revenue')\n",
    "female_revenue = female_week1_events.groupby('UserId').sum('Revenue')\n",
    "\n",
    "# Now, we can conduct the independent sample t test to compare the dataset\n",
    "t_value, p_value = ttest_ind(male_revenue.Revenue, female_revenue.Revenue)\n",
    "\n",
    "# Printing the results\n",
    "print('The mean male revenue is {:.2f}±{:.2f} euro'.format(male_revenue.Revenue.mean(), male_revenue.Revenue.std()))\n",
    "print('The mean female revenue is {:.2f}±{:.2f} euro'.format(female_revenue.Revenue.mean(), female_revenue.Revenue.std()))\n",
    "print('the independent t-test value is {:.3f}, with significance {:.3f}'.format(t_value, p_value))\n"
   ]
  },
  {
   "cell_type": "markdown",
   "id": "5ac61a1d",
   "metadata": {},
   "source": [
    "The mean revenue for men and women is quite similar, especially given the large standard deviation on both of these values (as a result of the extremely high spenders shown in the histograms earlier). Given that male/female makes for two completely independent datasets, the independent sample t test is a suitable metric to see whether this difference is significant. With a significance value $p=0.177$, we can conclude that there is not a significant difference in the amount of revenue generated by male and female users."
   ]
  },
  {
   "cell_type": "markdown",
   "id": "036d7b81",
   "metadata": {},
   "source": [
    "7. In which country is this difference greatest?\n",
    "8. Please visualise the relationship between country, gender and week 1 revenue with an appropriate chart."
   ]
  },
  {
   "cell_type": "code",
   "execution_count": 8,
   "id": "2a20fe60",
   "metadata": {},
   "outputs": [
    {
     "name": "stdout",
     "output_type": "stream",
     "text": [
      "The absolute difference in revenue for men and women is each country is:\n",
      "           Revenue\n",
      "Country           \n",
      "DE       30.651792\n",
      "FR       28.066291\n",
      "GB       17.140430\n",
      "Other    70.622211\n",
      "US       63.705906\n",
      "So, we can conclude the largest difference is in Other, where men generate 159.05 and women 88.42\n"
     ]
    }
   ],
   "source": [
    "# We are going to take the male/female revenue and split them up into different countries\n",
    "male_country = male_week1_events.groupby(['Country', 'UserId']).sum('Revenue')\n",
    "female_country = female_week1_events.groupby(['Country', 'UserId']).sum('Revenue')\n",
    "\n",
    "# Next we calculate the average for each country\n",
    "male_country_mean = male_country.groupby('Country').mean('Revenue')\n",
    "female_country_mean = female_country.groupby('Country').mean('Revenue')\n",
    "\n",
    "# We also calculate the standard deviation\n",
    "male_country_std = male_country.groupby('Country').std()\n",
    "female_country_std = female_country.groupby('Country').std()\n",
    "\n",
    "\n",
    "# Calculate the difference\n",
    "difference_revenue = np.abs(male_country_mean - female_country_mean)\n",
    "\n",
    "print('The absolute difference in revenue for men and women is each country is:')\n",
    "print(difference_revenue)\n",
    "max_region = difference_revenue.idxmax().values[0]\n",
    "str_format = max_region, male_country_mean.Revenue.loc[max_region], female_country_mean.Revenue.loc[max_region]\n",
    "print('So, we can conclude the largest difference is in {}, where men generate {:.2f} and women {:.2f}'.format(*str_format))"
   ]
  },
  {
   "cell_type": "code",
   "execution_count": 9,
   "id": "a9e7bef4",
   "metadata": {},
   "outputs": [
    {
     "data": {
      "image/png": "[encoded data removed]",
      "text/plain": [
       "<Figure size 1080x720 with 1 Axes>"
      ]
     },
     "metadata": {
      "needs_background": "light"
     },
     "output_type": "display_data"
    }
   ],
   "source": [
    "# To compare the values in each region, we will create a bar graph. For this, we first combine the two dataframes\n",
    "join_pd = pd.DataFrame({'Country': male_country_mean.index,\n",
    "                        'Male': male_country_mean.Revenue,\n",
    "                        'Female': female_country_mean.Revenue,\n",
    "                        'Male_std': male_country_std.Revenue,\n",
    "                        'Female_std': female_country_std.Revenue})\n",
    "\n",
    "# Create the figure\n",
    "plt.rc('axes', titlesize=16)     # fontsize of the axes title\n",
    "plt.rc('axes', labelsize=16)    # fontsize of the x and y labels\n",
    "plt.rc('xtick', labelsize=14)    # fontsize of the tick labels\n",
    "plt.rc('ytick', labelsize=14)    # fontsize of the tick labels\n",
    "plt.rc('legend', fontsize=16)    # legend fontsize\n",
    "\n",
    "fig = plt.figure(figsize=(15, 10))\n",
    "ax = fig.add_subplot(111)\n",
    "join_pd.plot(x=\"Country\", y=[\"Male\", \"Female\"], kind=\"bar\", ax=ax, yerr=join_pd[['Male_std', 'Female_std']].T.values)\n",
    "ax.set_ylim([0, 1300])\n",
    "_ = ax.set_ylabel('Mean revenue')\n"
   ]
  },
  {
   "cell_type": "markdown",
   "id": "19442b22",
   "metadata": {},
   "source": [
    "So, from the analysis we can see that men generally generate more mean revenue than women, and this is a trend that is visible over all regions included within the data set. The difference is largest in the 'Other' region, where the large difference here might be due to having a range of different regions being put together into one category. We can also see that all regions show high variability in the data, which is illustrated by the large uncertainty bars in the data."
   ]
  },
  {
   "cell_type": "markdown",
   "id": "c1082d08",
   "metadata": {},
   "source": [
    "9.\tBuild a linear regression model to predict the week 1 revenue of a user based on the following variables: Gender, Age, Country and day 1 revenue (ie the revenue generated by the user on their registration date). Which of these variables have a statistically significant predictive power according to this model?"
   ]
  },
  {
   "cell_type": "code",
   "execution_count": 10,
   "id": "e3e7c192",
   "metadata": {},
   "outputs": [
    {
     "name": "stdout",
     "output_type": "stream",
     "text": [
      "       UserId        DOB     RegDate  Revenue  week1_revenue  day1_revenue  \\\n",
      "0     1326865 1988-05-04  2016-03-24   351.42           0.00          0.00   \n",
      "1     1333278 1971-07-21  2016-02-09    45.00           0.00          0.00   \n",
      "2     1336967 1983-07-31  2016-01-29    20.00           0.00          0.00   \n",
      "3     1339784 1976-09-21  2016-01-21    59.28           0.00          0.00   \n",
      "4     1339829 1981-05-03  2016-04-12    17.05           0.00          0.00   \n",
      "...       ...        ...         ...      ...            ...           ...   \n",
      "5792  3347222 1967-05-25  2017-03-22   230.27          56.80         37.52   \n",
      "5793  3347251 1981-06-11  2017-04-03    30.00          30.00         30.00   \n",
      "5794  3347333 1987-11-22  2017-01-27    30.00          30.00         30.00   \n",
      "5795  3347367 1995-08-09  2017-04-04    17.05          17.05         17.05   \n",
      "5796  3347450 1994-07-30  2017-04-21    42.63          42.63         42.63   \n",
      "\n",
      "       age  Gender_M  Country_FR  Country_GB  Country_Other  Country_US  \n",
      "0     33.0         1           0           0              0           0  \n",
      "1     50.0         1           0           1              0           0  \n",
      "2     38.0         1           0           1              0           0  \n",
      "3     45.0         1           0           0              1           0  \n",
      "4     40.0         0           0           0              1           0  \n",
      "...    ...       ...         ...         ...            ...         ...  \n",
      "5792  54.0         1           1           0              0           0  \n",
      "5793  40.0         0           0           1              0           0  \n",
      "5794  34.0         1           0           1              0           0  \n",
      "5795  26.0         0           0           0              0           1  \n",
      "5796  27.0         1           0           0              0           1  \n",
      "\n",
      "[5797 rows x 12 columns]\n"
     ]
    }
   ],
   "source": [
    "# First, we need to calculate the day 1 and week 1revenue, which can just follow the procedure we used for the \n",
    "# 7 day revenue\n",
    "day1_events_bool = get_period_events(merged_data, time_period=0)\n",
    "week1_events_bool = get_period_events(merged_data, time_period=7)\n",
    "\n",
    "# Now, we set the revenue for all events outside of 1 day or 1 week to 0\n",
    "day1_revenue, week1_revenue = merged_data.Revenue.copy(deep=True), merged_data.Revenue.copy(deep=True)\n",
    "day1_revenue[day1_events_bool == False] = 0\n",
    "week1_revenue[week1_events_bool == False] = 0\n",
    "\n",
    "# And now the mean revenue per person for week1 and day1\n",
    "merged_data['week1_revenue'] = week1_revenue\n",
    "merged_data['day1_revenue'] = day1_revenue\n",
    "user_mean_revenue = merged_data.groupby('UserId').sum(['week1_revenue', 'day1_revenue'])\n",
    "\n",
    "# Now we merge these revenues with the users\n",
    "complete_data = user_data.merge(user_mean_revenue, on='UserId')\n",
    "    \n",
    "# Finally, we calculate the age of the person relative to today\n",
    "today = datetime.now()\n",
    "complete_data.DOB = pd.to_datetime(complete_data.DOB)\n",
    "complete_data['age'] = (today - complete_data.DOB).dt.days // 365.25\n",
    "\n",
    "# And then we again make sure all unmarked genders are 'M', and then create dummy variables since the linear \n",
    "# regression model doesn't like string\n",
    "complete_data.Gender = np.where((complete_data.Gender == ' '), 'M', complete_data.Gender)\n",
    "complete_data = pd.get_dummies(complete_data, columns=['Gender'], drop_first=True)\n",
    "\n",
    "# Similarly, we generate dummy variables for the countries\n",
    "complete_data = pd.get_dummies(complete_data, columns=['Country'], drop_first=True)\n",
    "print(complete_data)"
   ]
  },
  {
   "cell_type": "code",
   "execution_count": 11,
   "id": "30ef940c",
   "metadata": {},
   "outputs": [
    {
     "data": {
      "text/html": [
       "<table class=\"simpletable\">\n",
       "<caption>OLS Regression Results</caption>\n",
       "<tr>\n",
       "  <th>Dep. Variable:</th>      <td>week1_revenue</td>  <th>  R-squared (uncentered):</th>      <td>   0.485</td> \n",
       "</tr>\n",
       "<tr>\n",
       "  <th>Model:</th>                   <td>OLS</td>       <th>  Adj. R-squared (uncentered):</th> <td>   0.484</td> \n",
       "</tr>\n",
       "<tr>\n",
       "  <th>Method:</th>             <td>Least Squares</td>  <th>  F-statistic:       </th>          <td>   777.8</td> \n",
       "</tr>\n",
       "<tr>\n",
       "  <th>Date:</th>             <td>Tue, 26 Apr 2022</td> <th>  Prob (F-statistic):</th>           <td>  0.00</td>  \n",
       "</tr>\n",
       "<tr>\n",
       "  <th>Time:</th>                 <td>17:11:24</td>     <th>  Log-Likelihood:    </th>          <td> -44475.</td> \n",
       "</tr>\n",
       "<tr>\n",
       "  <th>No. Observations:</th>      <td>  5797</td>      <th>  AIC:               </th>          <td>8.896e+04</td>\n",
       "</tr>\n",
       "<tr>\n",
       "  <th>Df Residuals:</th>          <td>  5790</td>      <th>  BIC:               </th>          <td>8.901e+04</td>\n",
       "</tr>\n",
       "<tr>\n",
       "  <th>Df Model:</th>              <td>     7</td>      <th>                     </th>              <td> </td>    \n",
       "</tr>\n",
       "<tr>\n",
       "  <th>Covariance Type:</th>      <td>nonrobust</td>    <th>                     </th>              <td> </td>    \n",
       "</tr>\n",
       "</table>\n",
       "<table class=\"simpletable\">\n",
       "<tr>\n",
       "        <td></td>           <th>coef</th>     <th>std err</th>      <th>t</th>      <th>P>|t|</th>  <th>[0.025</th>    <th>0.975]</th>  \n",
       "</tr>\n",
       "<tr>\n",
       "  <th>Gender_M</th>      <td>    0.5074</td> <td>   14.131</td> <td>    0.036</td> <td> 0.971</td> <td>  -27.194</td> <td>   28.209</td>\n",
       "</tr>\n",
       "<tr>\n",
       "  <th>age</th>           <td>    0.6533</td> <td>    0.370</td> <td>    1.766</td> <td> 0.078</td> <td>   -0.072</td> <td>    1.379</td>\n",
       "</tr>\n",
       "<tr>\n",
       "  <th>day1_revenue</th>  <td>    1.4593</td> <td>    0.021</td> <td>   68.688</td> <td> 0.000</td> <td>    1.418</td> <td>    1.501</td>\n",
       "</tr>\n",
       "<tr>\n",
       "  <th>Country_FR</th>    <td>   29.8458</td> <td>   28.415</td> <td>    1.050</td> <td> 0.294</td> <td>  -25.858</td> <td>   85.550</td>\n",
       "</tr>\n",
       "<tr>\n",
       "  <th>Country_GB</th>    <td>   22.2315</td> <td>   18.005</td> <td>    1.235</td> <td> 0.217</td> <td>  -13.065</td> <td>   57.528</td>\n",
       "</tr>\n",
       "<tr>\n",
       "  <th>Country_Other</th> <td>   -1.2415</td> <td>   22.490</td> <td>   -0.055</td> <td> 0.956</td> <td>  -45.330</td> <td>   42.847</td>\n",
       "</tr>\n",
       "<tr>\n",
       "  <th>Country_US</th>    <td>   -2.6947</td> <td>   21.406</td> <td>   -0.126</td> <td> 0.900</td> <td>  -44.659</td> <td>   39.270</td>\n",
       "</tr>\n",
       "</table>\n",
       "<table class=\"simpletable\">\n",
       "<tr>\n",
       "  <th>Omnibus:</th>       <td>14676.084</td> <th>  Durbin-Watson:     </th>   <td>   1.970</td>   \n",
       "</tr>\n",
       "<tr>\n",
       "  <th>Prob(Omnibus):</th>  <td> 0.000</td>   <th>  Jarque-Bera (JB):  </th> <td>394547536.172</td>\n",
       "</tr>\n",
       "<tr>\n",
       "  <th>Skew:</th>           <td>27.660</td>   <th>  Prob(JB):          </th>   <td>    0.00</td>   \n",
       "</tr>\n",
       "<tr>\n",
       "  <th>Kurtosis:</th>      <td>1279.869</td>  <th>  Cond. No.          </th>   <td>1.71e+03</td>   \n",
       "</tr>\n",
       "</table><br/><br/>Notes:<br/>[1] R² is computed without centering (uncentered) since the model does not contain a constant.<br/>[2] Standard Errors assume that the covariance matrix of the errors is correctly specified.<br/>[3] The condition number is large, 1.71e+03. This might indicate that there are<br/>strong multicollinearity or other numerical problems."
      ],
      "text/plain": [
       "<class 'statsmodels.iolib.summary.Summary'>\n",
       "\"\"\"\n",
       "                                 OLS Regression Results                                \n",
       "=======================================================================================\n",
       "Dep. Variable:          week1_revenue   R-squared (uncentered):                   0.485\n",
       "Model:                            OLS   Adj. R-squared (uncentered):              0.484\n",
       "Method:                 Least Squares   F-statistic:                              777.8\n",
       "Date:                Tue, 26 Apr 2022   Prob (F-statistic):                        0.00\n",
       "Time:                        17:11:24   Log-Likelihood:                         -44475.\n",
       "No. Observations:                5797   AIC:                                  8.896e+04\n",
       "Df Residuals:                    5790   BIC:                                  8.901e+04\n",
       "Df Model:                           7                                                  \n",
       "Covariance Type:            nonrobust                                                  \n",
       "=================================================================================\n",
       "                    coef    std err          t      P>|t|      [0.025      0.975]\n",
       "---------------------------------------------------------------------------------\n",
       "Gender_M          0.5074     14.131      0.036      0.971     -27.194      28.209\n",
       "age               0.6533      0.370      1.766      0.078      -0.072       1.379\n",
       "day1_revenue      1.4593      0.021     68.688      0.000       1.418       1.501\n",
       "Country_FR       29.8458     28.415      1.050      0.294     -25.858      85.550\n",
       "Country_GB       22.2315     18.005      1.235      0.217     -13.065      57.528\n",
       "Country_Other    -1.2415     22.490     -0.055      0.956     -45.330      42.847\n",
       "Country_US       -2.6947     21.406     -0.126      0.900     -44.659      39.270\n",
       "==============================================================================\n",
       "Omnibus:                    14676.084   Durbin-Watson:                   1.970\n",
       "Prob(Omnibus):                  0.000   Jarque-Bera (JB):        394547536.172\n",
       "Skew:                          27.660   Prob(JB):                         0.00\n",
       "Kurtosis:                    1279.869   Cond. No.                     1.71e+03\n",
       "==============================================================================\n",
       "\n",
       "Notes:\n",
       "[1] R² is computed without centering (uncentered) since the model does not contain a constant.\n",
       "[2] Standard Errors assume that the covariance matrix of the errors is correctly specified.\n",
       "[3] The condition number is large, 1.71e+03. This might indicate that there are\n",
       "strong multicollinearity or other numerical problems.\n",
       "\"\"\""
      ]
     },
     "execution_count": 11,
     "metadata": {},
     "output_type": "execute_result"
    }
   ],
   "source": [
    "# Now that we have all our variables of interest, we can create our linear regression model, with X being our\n",
    "# training data and y the target data\n",
    "X = complete_data[['Gender_M', 'age', 'day1_revenue', 'Country_FR', 'Country_GB', 'Country_Other', 'Country_US']]\n",
    "y = complete_data['week1_revenue']\n",
    "\n",
    "linear_model = sm.OLS(y, X).fit()\n",
    "linear_model.summary()"
   ]
  },
  {
   "cell_type": "markdown",
   "id": "4b6e817e",
   "metadata": {},
   "source": [
    "So, if we look at the results above, we can see that only the `day1_revenue` has significant predictive power ($p<0.05$), although `age` is very close to significant. In contrast, the user gender has very little predictive power, which is in line with the earlier conclusion that the mean revenue generated by men and women is not significantly different. The nationality of the user is also not a signficant predictor, and this is also to be expected, given that the bar plot shows that all the male/female mean revenues fall within each other's standard deviation.\n",
    "\n",
    "In short, a model just using the user `age` and `day1_revenue` is likely the best predictive model that you could get from this dataset."
   ]
  },
  {
   "cell_type": "markdown",
   "id": "a1fc6fbb",
   "metadata": {},
   "source": [
    "10.\tWhat revenues do you expect women from France, Germany and the UK to generate, assuming they are all aged 40 and all generated £20 on their registration day?"
   ]
  },
  {
   "cell_type": "code",
   "execution_count": 12,
   "id": "2e26f902",
   "metadata": {},
   "outputs": [
    {
     "name": "stdout",
     "output_type": "stream",
     "text": [
      "0    85.164513\n",
      "1    77.550216\n",
      "2    55.318754\n",
      "dtype: float64\n"
     ]
    }
   ],
   "source": [
    "# To make these predictions, we first create a dataframe with the necessary data\n",
    "users = pd.DataFrame({'Gender_M': [0, 0, 0], 'age': [40, 40, 40], 'day1_revenue': [20, 20, 20],\n",
    "                      'Country_FR': [1, 0, 0], 'Country_GB': [0, 1, 0], 'Country_Other': [0, 0, 0],\n",
    "                      'Country_US': [0, 0, 0]})\n",
    "\n",
    "print(linear_model.predict(users))"
   ]
  },
  {
   "cell_type": "markdown",
   "id": "95a59d5e",
   "metadata": {},
   "source": [
    "So, based on this linear regression model, we would expect a 40 year old women in France, Germany and the UK respectively to generate 85.16, 55.32 and 77.55 pounds of revenue."
   ]
  }
 ],
 "metadata": {
  "kernelspec": {
   "display_name": "Python 3",
   "language": "python",
   "name": "python3"
  },
  "language_info": {
   "codemirror_mode": {
    "name": "ipython",
    "version": 3
   },
   "file_extension": ".py",
   "mimetype": "text/x-python",
   "name": "python",
   "nbconvert_exporter": "python",
   "pygments_lexer": "ipython3",
   "version": "3.6.11"
  }
 },
 "nbformat": 4,
 "nbformat_minor": 5
}
